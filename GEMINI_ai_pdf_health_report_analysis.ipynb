{
  "nbformat": 4,
  "nbformat_minor": 0,
  "metadata": {
    "colab": {
      "provenance": []
    },
    "kernelspec": {
      "name": "python3",
      "display_name": "Python 3"
    },
    "language_info": {
      "name": "python"
    }
  },
  "cells": [
    {
      "cell_type": "code",
      "execution_count": 1,
      "metadata": {
        "id": "8zXsDhY69qLY"
      },
      "outputs": [],
      "source": [
        "import google.generativeai as genai\n",
        "from google.colab import userdata\n",
        "\n",
        "GOOGLE_API_KEY=userdata.get('GOOGLE_API_KEY')\n",
        "genai.configure(api_key=GOOGLE_API_KEY)"
      ]
    },
    {
      "cell_type": "code",
      "source": [
        "pip install pyPDF2"
      ],
      "metadata": {
        "colab": {
          "base_uri": "https://localhost:8080/"
        },
        "id": "jzr6O_6_-tYx",
        "outputId": "fa42fc9a-d52c-462e-dc88-37dbd139652b"
      },
      "execution_count": 3,
      "outputs": [
        {
          "output_type": "stream",
          "name": "stdout",
          "text": [
            "Collecting pyPDF2\n",
            "  Downloading pypdf2-3.0.1-py3-none-any.whl.metadata (6.8 kB)\n",
            "Downloading pypdf2-3.0.1-py3-none-any.whl (232 kB)\n",
            "\u001b[2K   \u001b[90m━━━━━━━━━━━━━━━━━━━━━━━━━━━━━━━━━━━━━━━━\u001b[0m \u001b[32m232.6/232.6 kB\u001b[0m \u001b[31m3.3 MB/s\u001b[0m eta \u001b[36m0:00:00\u001b[0m\n",
            "\u001b[?25hInstalling collected packages: pyPDF2\n",
            "Successfully installed pyPDF2-3.0.1\n"
          ]
        }
      ]
    },
    {
      "cell_type": "code",
      "source": [
        "import PyPDF2\n",
        "def extract_text_from_pdf(pdf_path):\n",
        "    \"\"\"Extracts text from a given health report PDF using PyPDF2.\"\"\"\n",
        "    text = \"\"\n",
        "    with open(pdf_path, \"rb\") as file:\n",
        "        reader = PyPDF2.PdfReader(file)\n",
        "        for page in reader.pages:\n",
        "            text += page.extract_text() + \"\\n\"\n",
        "    return text"
      ],
      "metadata": {
        "id": "nEK6l4LhAh_d"
      },
      "execution_count": 8,
      "outputs": []
    },
    {
      "cell_type": "code",
      "source": [
        "def extract_health_insights(text):\n",
        "    \"\"\"Asks Gemini AI to extract key medical insights from the report.\"\"\"\n",
        "    model = genai.GenerativeModel(\"gemini-1.5-flash\")\n",
        "    prompt = f\"Extract key insights from the following health report:\\n\\n{text}\"\n",
        "    response = model.generate_content(prompt)\n",
        "    return response.text\n",
        "\n",
        "pdf_file = \"health_report.pdf\"\n",
        "extracted_text = extract_text_from_pdf(pdf_file)\n",
        "insights = extract_health_insights(extracted_text)\n",
        "print(\"Key Insights:\\n\", insights)\n"
      ],
      "metadata": {
        "colab": {
          "base_uri": "https://localhost:8080/",
          "height": 540
        },
        "id": "-2u9YfaPBLtG",
        "outputId": "3179c5cc-b0b6-494a-9fd9-d9876845f56a"
      },
      "execution_count": 9,
      "outputs": [
        {
          "output_type": "stream",
          "name": "stdout",
          "text": [
            "Key Insights:\n",
            " Mr. Kishan Goud's (MR Number: MR2100003157) health report from February 1st, 2021, reveals the following key insights:\n",
            "\n",
            "**Infectious Diseases:**\n",
            "\n",
            "* **Negative for Dengue:**  Tests for Dengue NS1 antigen, IgG, and IgM antibodies were all negative.\n",
            "* **Negative for Malaria:** Rapid Malaria tests for Plasmodium vivax (P.V) and Plasmodium falciparum (P.F) were both negative.\n",
            "* **Elevated Widal Test:**  While the Widal test showed elevated titers for *Salmonella Typhi* \"O\" (1:160) and \"H\" (1:80),  this alone isn't conclusive for typhoid fever.  Further investigation may be needed to confirm.  The titers for *Salmonella Paratyphi* \"A\" and \"B\" were within the normal range.\n",
            "\n",
            "**Hematology:**\n",
            "\n",
            "* **Elevated ESR:** Erythrocyte Sedimentation Rate (ESR) was elevated (26 mm/hr in the first hour and 52 mm/hr in the second hour), suggesting potential inflammation or infection.\n",
            "* **Complete Blood Count (CBC) mostly normal:** Hemoglobin, RBC, WBC, and platelet counts were mostly within the normal range.  Differential count showed slightly low lymphocytes but all were within acceptable limits.\n",
            "* **Normochromic and normocytic RBCs:** Red blood cells appeared normal in size and hemoglobin content.\n",
            "\n",
            "\n",
            "**Blood Chemistry:**\n",
            "\n",
            "* **Normal Liver Function Tests (LFTs):**  All liver function tests (serum bilirubin – total, direct, and indirect; alkaline phosphatase, SGOT, SGPT, total protein, albumin, and globulin) were within the normal range.\n",
            "* **Normal Renal Function:** Serum creatinine levels were within the normal range (0.8 mg/dl), indicating normal kidney function.\n",
            "* **Normal Blood Glucose:** Random blood glucose was within the normal range.\n",
            "* **Normal HbA1c:** The HbA1c level (5.4%) indicates good blood glucose control and no evidence of diabetes.\n",
            "* **Slightly low Serum Sodium:** Serum sodium was slightly low (122 mmol/l), while potassium and chloride were within normal range. This warrants further investigation and context within the clinical picture.\n",
            "\n",
            "\n",
            "**Overall:**\n",
            "\n",
            "The report shows mostly normal results for many parameters. The most concerning findings are the slightly low serum sodium and elevated ESR, along with the elevated but not conclusive Widal test. The clinical significance of these findings requires further interpretation by the attending physician, Dr. Krishna Prasad, considering the patient's overall clinical presentation and medical history.  The elevated Widal test might be a past infection or a non-specific reaction, needing additional tests for definite diagnosis.\n",
            "\n"
          ]
        }
      ]
    },
    {
      "cell_type": "code",
      "source": [
        "def summarize_health_report(text):\n",
        "    \"\"\"Summarize the health report using Gemini AI.\"\"\"\n",
        "    model = genai.GenerativeModel(\"gemini-1.5-flash\")\n",
        "    prompt = f\"Summarize the following health report in a concise manner:\\n\\n{text}\"\n",
        "    response = model.generate_content(prompt)\n",
        "    return response.text\n",
        "\n",
        "summary = summarize_health_report(extracted_text)\n",
        "print(\"Summary:\\n\", summary)"
      ],
      "metadata": {
        "colab": {
          "base_uri": "https://localhost:8080/",
          "height": 332
        },
        "id": "9qJpWGTNC4Nl",
        "outputId": "d28ecb15-43c3-4ee2-e88d-b9f1d7f5024c"
      },
      "execution_count": 10,
      "outputs": [
        {
          "output_type": "stream",
          "name": "stdout",
          "text": [
            "Summary:\n",
            " Mr. Kishan Goud's (MRN: MR2100003157) blood tests on 01/02/2021 showed:\n",
            "\n",
            "* **Widal Test:** Elevated titers for *Salmonella Typhi* O (1:160) and H (1:80),  suggesting possible typhoid fever.  *Salmonella Paratyphi* AH and BH were within the reference range.\n",
            "* **Dengue Serology:** Negative for NS1 antigen, IgG, and IgM.\n",
            "* **ESR:** Elevated (26 mm/hr at 1 hour, 52 mm/hr at 2 hours), indicating inflammation.\n",
            "* **Malaria Test:** Negative for *Plasmodium falciparum* and *Plasmodium vivax*.\n",
            "* **Complete Blood Picture:**  Hemoglobin, RBC, WBC, and platelets within normal limits.  Differential count also within normal ranges.\n",
            "* **HbA1c:** 5.4% (within the normal non-diabetic range).\n",
            "* **Serum Creatinine:** 0.8 mg/dl (within the normal range).\n",
            "* **Random Blood Glucose:**  (value missing from provided text)\n",
            "* **Liver Function Tests:**  All values within normal ranges.\n",
            "* **Serum Electrolytes:** Sodium slightly low (122 mmol/l), potassium and chloride within normal ranges.\n",
            "\n",
            "\n",
            "**Note:** The absence of a random blood glucose value prevents a complete interpretation.  The elevated Widal test and ESR warrant further investigation to confirm a diagnosis.\n",
            "\n"
          ]
        }
      ]
    },
    {
      "cell_type": "code",
      "source": [
        "def detect_abnormalities(text):\n",
        "    \"\"\"Analyzes lab test results and flags abnormal values.\"\"\"\n",
        "    model = genai.GenerativeModel(\"gemini-1.5-flash\")\n",
        "    prompt = f\"Analyze the lab test results in the following health report and highlight any abnormal values:\\n\\n{text}\"\n",
        "    response = model.generate_content(prompt)\n",
        "    return response.text\n",
        "\n",
        "abnormalities = detect_abnormalities(extracted_text)\n",
        "print(\"Potential Abnormalities:\\n\", abnormalities)\n"
      ],
      "metadata": {
        "colab": {
          "base_uri": "https://localhost:8080/",
          "height": 315
        },
        "id": "ugxUdjAIFnyo",
        "outputId": "c428523a-b298-4096-c175-219e3148512d"
      },
      "execution_count": 11,
      "outputs": [
        {
          "output_type": "stream",
          "name": "stdout",
          "text": [
            "Potential Abnormalities:\n",
            " The following lab results from Mr. Kishan Goud's report show values outside the reference ranges:\n",
            "\n",
            "* **Widal Test:**  S. Typhi \"O\" (1:160) and S. Typhi \"H\" (1:80) are both significantly elevated above the reference range of 1:20. This suggests a possible past or present infection with *Salmonella Typhi*, which causes typhoid fever.  The titre is high, indicating a stronger immune response.  Further investigation would be needed to confirm active infection.\n",
            "\n",
            "* **ESR (Erythrocyte Sedimentation Rate):** Both the 1st hour (26 mm/hr) and 2nd hour (52 mm/hr) values are significantly higher than the reference range of 0-8 mm/hr for the first hour. Elevated ESR indicates inflammation in the body.  This is non-specific and could be related to many conditions, including infection.\n",
            "\n",
            "* **Serum Sodium:** 122 mmol/l is below the reference range of 135-146 mmol/l. Hyponatremia (low sodium) can have various causes and requires further evaluation.\n",
            "\n",
            "* **Serum Chloride:** 97 mmol/l is below the reference range of 98-107 mmol/l. Hypochloremia (low chloride) often accompanies hyponatremia and warrants further investigation.\n",
            "\n",
            "\n",
            "**Other Values:** While all other values fall within the reference ranges, it's important to note that some are near the lower or upper limits (e.g., RBC, Platelets, Lymphocytes).  These should be considered in the context of the abnormal values and the patient's overall clinical presentation.\n",
            "\n",
            "**Important Note:** This analysis is for informational purposes only.  It is crucial for a medical professional to interpret these results in conjunction with the patient's symptoms, medical history, and other clinical findings to arrive at a proper diagnosis and treatment plan.  The elevated Widal test and ESR, along with the hyponatremia and hypochloremia, suggest further investigation is definitely warranted.\n",
            "\n"
          ]
        }
      ]
    },
    {
      "cell_type": "code",
      "source": [
        "def explain_medical_terms(text):\n",
        "    \"\"\"Asks Gemini AI to simplify medical terms for patient understanding\"\"\"\n",
        "    model = genai.GenerativeModel(\"gemini-1.5-flash\")\n",
        "    prompt = f\"Explain the medical terms in the following health report in simple language:\\n\\n{text}\"\n",
        "    response = model.generate_content(prompt)\n",
        "    return response.text\n",
        "\n",
        "explanation = explain_medical_terms(extracted_text)\n",
        "print(\"Simplified Explanation:\\n\", explanation)"
      ],
      "metadata": {
        "colab": {
          "base_uri": "https://localhost:8080/",
          "height": 1000
        },
        "id": "P2-jV878HqS1",
        "outputId": "55483e42-13a7-4a54-b85c-74672c39b008"
      },
      "execution_count": 12,
      "outputs": [
        {
          "output_type": "stream",
          "name": "stdout",
          "text": [
            "Simplified Explanation:\n",
            " This report shows the results of several blood tests performed on Mr. Kishan Goud. Let's break down the results in simple terms:\n",
            "\n",
            "**1. Widal Test:** This test checks for antibodies against typhoid fever.  The results show:\n",
            "\n",
            "* **S. Typhi \"O\" 1:160:**  This is a higher than normal level of antibodies against one part of the typhoid bacteria. This *could* suggest a past or current typhoid infection, but further investigation would be needed.\n",
            "* **S. Typhi \"H\" 1:80:** This is also slightly elevated but less so than the \"O\" antibody.\n",
            "* **S. Paratyphi \"AH\" 1:20:**  Within the normal range, suggesting no current infection with this type of paratyphoid.\n",
            "* **S. Paratyphi \"BH\" 1:20:** Within the normal range, suggesting no current infection with this type of paratyphoid.\n",
            "\n",
            "**In short:** The Widal test suggests a *possible* past or present typhoid infection, but it's not definitive.\n",
            "\n",
            "\n",
            "**2. Dengue Serology:**  This tests for dengue fever. All three tests (NS1 Antigen, IgG, and IgM) are negative, meaning there's no evidence of current or recent dengue infection.\n",
            "\n",
            "**3. Erythrocyte Sedimentation Rate (ESR):** This measures how quickly red blood cells settle in a test tube.  A higher ESR can indicate inflammation in the body.  Mr. Goud's ESR is elevated (26 mm/hr in the first hour, 52 mm/hr in the second hour), suggesting the presence of inflammation.  The cause needs further investigation.\n",
            "\n",
            "**4. Rapid Malaria Test:** This test checks for malaria parasites. Both *Plasmodium vivax* (P.V.) and *Plasmodium falciparum* (P.F.) are negative, ruling out malaria.\n",
            "\n",
            "**5. Complete Blood Picture (CBC):** This is a comprehensive blood test:\n",
            "\n",
            "* **Hemoglobin (Hb):**  13.6 gms% (normal). This measures the oxygen-carrying capacity of red blood cells.\n",
            "* **Red Blood Cells (RBC):** 4.3 mill/cumm (slightly low, but within the borderline of normal). These are the cells that carry oxygen.\n",
            "* **White Blood Cells (WBC):** 7,200 cells/cumm (normal). These are part of the body's immune system.\n",
            "* **Platelets:** 2.0 lakhs/cumm (normal). These are important for blood clotting.\n",
            "* **Packed Cell Volume (PCV):** 40.5% (normal).  The percentage of red blood cells in the blood.\n",
            "* **Differential Count:**  This breaks down the types of white blood cells. All are within or close to the normal range.\n",
            "* **Peripheral Blood Smear:**  The microscopic examination of the blood sample revealed that the red and white blood cells appear normal, and the platelets are adequate.\n",
            "\n",
            "\n",
            "**6. HbA1c:** This test measures average blood sugar levels over the past 2-3 months. Mr. Goud's level is 5.4%, which falls within the normal range for someone without diabetes.\n",
            "\n",
            "**7. Serum Creatinine:** This measures kidney function. Mr. Goud's level is 0.8 mg/dl, which is within the normal range.\n",
            "\n",
            "**8. Random Blood Glucose:** This measures blood sugar at a single point in time.  Mr. Goud's level is not provided in this section.\n",
            "\n",
            "**9. Liver Function Test (LFT):** These tests assess liver health:\n",
            "\n",
            "* **Total Bilirubin:** 0.6 mg/dl (normal).  A breakdown product of red blood cells.\n",
            "* **Direct Bilirubin:** 0.2 mg/dl (normal).\n",
            "* **Indirect Bilirubin:** 0.4 mg/dl (normal).\n",
            "* **Alkaline Phosphatase:** 71 IU/L (normal). An enzyme found in the liver and bones.\n",
            "* **SGOT (AST):** 24 u/L (normal).  An enzyme found in the liver and other tissues.\n",
            "* **SGPT (ALT):** 20 u/L (normal). An enzyme found in the liver.\n",
            "* **Total Protein:** 7.3 gms/dl (normal).\n",
            "* **Albumin:** 4.0 gms/dl (normal). A protein made by the liver.\n",
            "* **Globulin:** 3.3 gms/dl (normal).  Another type of protein in the blood.\n",
            "* **A/G Ratio:** 1.2 (normal). The ratio of albumin to globulin.\n",
            "\n",
            "\n",
            "**10. Serum Electrolytes:** These tests measure the levels of important minerals in the blood:\n",
            "\n",
            "* **Sodium:** 122 mmol/l (slightly low, though still borderline depending on the specific lab reference range).\n",
            "* **Potassium:** 3.5 mmol/l (normal).\n",
            "* **Chloride:** 97 mmol/l (slightly low, though still borderline).\n",
            "\n",
            "\n",
            "**Overall:**  The results show some evidence of inflammation (elevated ESR) and possibly a past or present typhoid infection (Widal test).  Other test results, including liver function, kidney function, and blood counts, are mostly within the normal range.  The slightly low sodium and chloride levels warrant further evaluation.  It is crucial to discuss these results with Dr. Krishna Prasad to understand their clinical significance and next steps.  This interpretation is for informational purposes only and should not be considered medical advice.\n",
            "\n"
          ]
        }
      ]
    },
    {
      "cell_type": "code",
      "source": [
        "def ask_gemini_about_report(text, question):\n",
        "    \"\"\"Allows users to ask questions about their health report.\"\"\"\n",
        "    model = genai.GenerativeModel(\"gemini-1.5-flash\")\n",
        "    prompt = f\"The following is a health report:\\n\\n{text}\\n\\nAnswer the following question based on the report:\\n{question}\"\n",
        "    response = model.generate_content(prompt)\n",
        "    return response.text\n",
        "question = \"What is the patient's diagnosis?\"\n",
        "answer = ask_gemini_about_report(extracted_text, question)\n",
        "print(\"Answer:\\n\", answer)"
      ],
      "metadata": {
        "colab": {
          "base_uri": "https://localhost:8080/",
          "height": 89
        },
        "id": "BR5KPRInJN_H",
        "outputId": "54a8425c-5a58-4b47-9391-5bdcd6571f73"
      },
      "execution_count": 13,
      "outputs": [
        {
          "output_type": "stream",
          "name": "stdout",
          "text": [
            "Answer:\n",
            " The provided lab report does not offer a diagnosis.  It presents test results.  Elevated ESR (erythrocyte sedimentation rate)  and slightly elevated S. Typhi \"O\" antibody titer (1:160) might suggest infection, possibly typhoid, but further clinical evaluation and correlation with symptoms are needed for a diagnosis.  The other results are largely within normal ranges.  Only a physician can interpret these results in the context of the patient's symptoms and medical history to arrive at a diagnosis.\n",
            "\n"
          ]
        }
      ]
    },
    {
      "cell_type": "code",
      "source": [],
      "metadata": {
        "id": "ODhHkRxlJt7-"
      },
      "execution_count": null,
      "outputs": []
    }
  ]
}